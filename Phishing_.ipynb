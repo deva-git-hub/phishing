{
  "nbformat": 4,
  "nbformat_minor": 0,
  "metadata": {
    "colab": {
      "name": "Phishing .ipynb",
      "provenance": [],
      "collapsed_sections": []
    },
    "kernelspec": {
      "name": "python3",
      "display_name": "Python 3"
    },
    "language_info": {
      "name": "python"
    }
  },
  "cells": [
    {
      "cell_type": "code",
      "execution_count": null,
      "metadata": {
        "colab": {
          "base_uri": "https://localhost:8080/"
        },
        "id": "e7rBGRaQqCNr",
        "outputId": "7edcdc9b-1a4b-4b51-de5a-1d05ce6087b5"
      },
      "outputs": [
        {
          "output_type": "stream",
          "name": "stdout",
          "text": [
            "hello\n"
          ]
        }
      ],
      "source": [
        "print(\"hello\")"
      ]
    },
    {
      "cell_type": "code",
      "source": [
        "import pandas as pd\n",
        "\n",
        "train = pd.read_csv(\"/content/drive/MyDrive/phishing/Phising_Training_Dataset.csv\")\n",
        "test = pd.read_csv(\"/content/drive/MyDrive/phishing/Phising_Testing_Dataset.csv\")\n",
        "\n",
        "\n"
      ],
      "metadata": {
        "id": "4IbHrFmTqJxY"
      },
      "execution_count": 1,
      "outputs": []
    },
    {
      "cell_type": "code",
      "source": [
        "# quality check\n",
        "train.info()"
      ],
      "metadata": {
        "colab": {
          "base_uri": "https://localhost:8080/"
        },
        "id": "1vRXME1SsFec",
        "outputId": "06e1881f-fc04-4fcf-dd31-232cbcaf6c60"
      },
      "execution_count": null,
      "outputs": [
        {
          "output_type": "stream",
          "name": "stdout",
          "text": [
            "<class 'pandas.core.frame.DataFrame'>\n",
            "RangeIndex: 8955 entries, 0 to 8954\n",
            "Data columns (total 32 columns):\n",
            " #   Column                       Non-Null Count  Dtype\n",
            "---  ------                       --------------  -----\n",
            " 0   key                          8955 non-null   int64\n",
            " 1   having_IP                    8955 non-null   int64\n",
            " 2   URL_Length                   8955 non-null   int64\n",
            " 3   Shortining_Service           8955 non-null   int64\n",
            " 4   having_At_Symbol             8955 non-null   int64\n",
            " 5   double_slash_redirecting     8955 non-null   int64\n",
            " 6   Prefix_Suffix                8955 non-null   int64\n",
            " 7   having_Sub_Domain            8955 non-null   int64\n",
            " 8   SSLfinal_State               8955 non-null   int64\n",
            " 9   Domain_registeration_length  8955 non-null   int64\n",
            " 10  Favicon                      8955 non-null   int64\n",
            " 11  port                         8955 non-null   int64\n",
            " 12  HTTPS_token                  8955 non-null   int64\n",
            " 13  Request_URL                  8955 non-null   int64\n",
            " 14  URL_of_Anchor                8955 non-null   int64\n",
            " 15  Links_in_tags                8955 non-null   int64\n",
            " 16  SFH                          8955 non-null   int64\n",
            " 17  Submitting_to_email          8955 non-null   int64\n",
            " 18  Abnormal_URL                 8955 non-null   int64\n",
            " 19  Redirect                     8955 non-null   int64\n",
            " 20  on_mouseover                 8955 non-null   int64\n",
            " 21  RightClick                   8955 non-null   int64\n",
            " 22  popUpWidnow                  8955 non-null   int64\n",
            " 23  Iframe                       8955 non-null   int64\n",
            " 24  age_of_domain                8955 non-null   int64\n",
            " 25  DNSRecord                    8955 non-null   int64\n",
            " 26  web_traffic                  8955 non-null   int64\n",
            " 27  Page_Rank                    8955 non-null   int64\n",
            " 28  Google_Index                 8955 non-null   int64\n",
            " 29  Links_pointing_to_page       8955 non-null   int64\n",
            " 30  Statistical_report           8955 non-null   int64\n",
            " 31  Result                       8955 non-null   int64\n",
            "dtypes: int64(32)\n",
            "memory usage: 2.2 MB\n"
          ]
        }
      ]
    },
    {
      "cell_type": "code",
      "source": [
        "from collections import Counter\n",
        "c = Counter(train[\"Result\"])\n",
        "c"
      ],
      "metadata": {
        "colab": {
          "base_uri": "https://localhost:8080/"
        },
        "id": "4MaZegbZosPH",
        "outputId": "3d091bc9-ba8e-4483-dfb3-5d275495fafc"
      },
      "execution_count": null,
      "outputs": [
        {
          "output_type": "execute_result",
          "data": {
            "text/plain": [
              "Counter({-1: 3921, 1: 5034})"
            ]
          },
          "metadata": {},
          "execution_count": 69
        }
      ]
    },
    {
      "cell_type": "code",
      "source": [
        "test.info()"
      ],
      "metadata": {
        "colab": {
          "base_uri": "https://localhost:8080/"
        },
        "id": "wdZvZzIHsLbn",
        "outputId": "01ae953b-557a-446a-9681-603258abecf0"
      },
      "execution_count": null,
      "outputs": [
        {
          "output_type": "stream",
          "name": "stdout",
          "text": [
            "<class 'pandas.core.frame.DataFrame'>\n",
            "RangeIndex: 2100 entries, 0 to 2099\n",
            "Data columns (total 31 columns):\n",
            " #   Column                       Non-Null Count  Dtype\n",
            "---  ------                       --------------  -----\n",
            " 0   key                          2100 non-null   int64\n",
            " 1   having_IP                    2100 non-null   int64\n",
            " 2   URL_Length                   2100 non-null   int64\n",
            " 3   Shortining_Service           2100 non-null   int64\n",
            " 4   having_At_Symbol             2100 non-null   int64\n",
            " 5   double_slash_redirecting     2100 non-null   int64\n",
            " 6   Prefix_Suffix                2100 non-null   int64\n",
            " 7   having_Sub_Domain            2100 non-null   int64\n",
            " 8   SSLfinal_State               2100 non-null   int64\n",
            " 9   Domain_registeration_length  2100 non-null   int64\n",
            " 10  Favicon                      2100 non-null   int64\n",
            " 11  port                         2100 non-null   int64\n",
            " 12  HTTPS_token                  2100 non-null   int64\n",
            " 13  Request_URL                  2100 non-null   int64\n",
            " 14  URL_of_Anchor                2100 non-null   int64\n",
            " 15  Links_in_tags                2100 non-null   int64\n",
            " 16  SFH                          2100 non-null   int64\n",
            " 17  Submitting_to_email          2100 non-null   int64\n",
            " 18  Abnormal_URL                 2100 non-null   int64\n",
            " 19  Redirect                     2100 non-null   int64\n",
            " 20  on_mouseover                 2100 non-null   int64\n",
            " 21  RightClick                   2100 non-null   int64\n",
            " 22  popUpWidnow                  2100 non-null   int64\n",
            " 23  Iframe                       2100 non-null   int64\n",
            " 24  age_of_domain                2100 non-null   int64\n",
            " 25  DNSRecord                    2100 non-null   int64\n",
            " 26  web_traffic                  2100 non-null   int64\n",
            " 27  Page_Rank                    2100 non-null   int64\n",
            " 28  Google_Index                 2100 non-null   int64\n",
            " 29  Links_pointing_to_page       2100 non-null   int64\n",
            " 30  Statistical_report           2100 non-null   int64\n",
            "dtypes: int64(31)\n",
            "memory usage: 508.7 KB\n"
          ]
        }
      ]
    },
    {
      "cell_type": "code",
      "source": [
        "no_result_train = train.drop([\"Result\"], axis=1)\n",
        "combined_data =  pd.concat([no_result_train, test])"
      ],
      "metadata": {
        "id": "PQIDmAjxsbnK"
      },
      "execution_count": 2,
      "outputs": []
    },
    {
      "cell_type": "code",
      "source": [
        "combined_data.info()"
      ],
      "metadata": {
        "colab": {
          "base_uri": "https://localhost:8080/"
        },
        "id": "GGjLWzLVtMVI",
        "outputId": "9b8439e0-acd9-437f-89ef-414be15295fb"
      },
      "execution_count": null,
      "outputs": [
        {
          "output_type": "stream",
          "name": "stdout",
          "text": [
            "<class 'pandas.core.frame.DataFrame'>\n",
            "Int64Index: 11055 entries, 0 to 2099\n",
            "Data columns (total 31 columns):\n",
            " #   Column                       Non-Null Count  Dtype\n",
            "---  ------                       --------------  -----\n",
            " 0   key                          11055 non-null  int64\n",
            " 1   having_IP                    11055 non-null  int64\n",
            " 2   URL_Length                   11055 non-null  int64\n",
            " 3   Shortining_Service           11055 non-null  int64\n",
            " 4   having_At_Symbol             11055 non-null  int64\n",
            " 5   double_slash_redirecting     11055 non-null  int64\n",
            " 6   Prefix_Suffix                11055 non-null  int64\n",
            " 7   having_Sub_Domain            11055 non-null  int64\n",
            " 8   SSLfinal_State               11055 non-null  int64\n",
            " 9   Domain_registeration_length  11055 non-null  int64\n",
            " 10  Favicon                      11055 non-null  int64\n",
            " 11  port                         11055 non-null  int64\n",
            " 12  HTTPS_token                  11055 non-null  int64\n",
            " 13  Request_URL                  11055 non-null  int64\n",
            " 14  URL_of_Anchor                11055 non-null  int64\n",
            " 15  Links_in_tags                11055 non-null  int64\n",
            " 16  SFH                          11055 non-null  int64\n",
            " 17  Submitting_to_email          11055 non-null  int64\n",
            " 18  Abnormal_URL                 11055 non-null  int64\n",
            " 19  Redirect                     11055 non-null  int64\n",
            " 20  on_mouseover                 11055 non-null  int64\n",
            " 21  RightClick                   11055 non-null  int64\n",
            " 22  popUpWidnow                  11055 non-null  int64\n",
            " 23  Iframe                       11055 non-null  int64\n",
            " 24  age_of_domain                11055 non-null  int64\n",
            " 25  DNSRecord                    11055 non-null  int64\n",
            " 26  web_traffic                  11055 non-null  int64\n",
            " 27  Page_Rank                    11055 non-null  int64\n",
            " 28  Google_Index                 11055 non-null  int64\n",
            " 29  Links_pointing_to_page       11055 non-null  int64\n",
            " 30  Statistical_report           11055 non-null  int64\n",
            "dtypes: int64(31)\n",
            "memory usage: 2.7 MB\n"
          ]
        }
      ]
    },
    {
      "cell_type": "code",
      "source": [
        "categorical_columns = ['having_IP', 'URL_Length', 'Shortining_Service',\n",
        "       'having_At_Symbol', 'double_slash_redirecting', 'Prefix_Suffix',\n",
        "       'having_Sub_Domain', 'SSLfinal_State', 'Domain_registeration_length',\n",
        "       'Favicon', 'port', 'HTTPS_token', 'Request_URL', 'URL_of_Anchor',\n",
        "       'Links_in_tags', 'SFH', 'Submitting_to_email', 'Abnormal_URL',\n",
        "       'Redirect', 'on_mouseover', 'RightClick', 'popUpWidnow', 'Iframe',\n",
        "       'age_of_domain', 'DNSRecord', 'web_traffic', 'Page_Rank',\n",
        "       'Google_Index', 'Links_pointing_to_page', 'Statistical_report']\n",
        "\n",
        "encoded_combined_data = pd.get_dummies(combined_data, columns = categorical_columns)"
      ],
      "metadata": {
        "id": "dZMLpnb5v9JY"
      },
      "execution_count": 3,
      "outputs": []
    },
    {
      "cell_type": "code",
      "source": [
        "encoded_combined_data.info()"
      ],
      "metadata": {
        "id": "A8CZ4tyUwZaA",
        "colab": {
          "base_uri": "https://localhost:8080/"
        },
        "outputId": "9f0bdd6b-ca1e-4263-b1e4-9fb0233bebd7"
      },
      "execution_count": null,
      "outputs": [
        {
          "output_type": "stream",
          "name": "stdout",
          "text": [
            "<class 'pandas.core.frame.DataFrame'>\n",
            "Int64Index: 11055 entries, 0 to 2099\n",
            "Data columns (total 69 columns):\n",
            " #   Column                          Non-Null Count  Dtype\n",
            "---  ------                          --------------  -----\n",
            " 0   key                             11055 non-null  int64\n",
            " 1   having_IP_-1                    11055 non-null  uint8\n",
            " 2   having_IP_1                     11055 non-null  uint8\n",
            " 3   URL_Length_-1                   11055 non-null  uint8\n",
            " 4   URL_Length_0                    11055 non-null  uint8\n",
            " 5   URL_Length_1                    11055 non-null  uint8\n",
            " 6   Shortining_Service_-1           11055 non-null  uint8\n",
            " 7   Shortining_Service_1            11055 non-null  uint8\n",
            " 8   having_At_Symbol_-1             11055 non-null  uint8\n",
            " 9   having_At_Symbol_1              11055 non-null  uint8\n",
            " 10  double_slash_redirecting_-1     11055 non-null  uint8\n",
            " 11  double_slash_redirecting_1      11055 non-null  uint8\n",
            " 12  Prefix_Suffix_-1                11055 non-null  uint8\n",
            " 13  Prefix_Suffix_1                 11055 non-null  uint8\n",
            " 14  having_Sub_Domain_-1            11055 non-null  uint8\n",
            " 15  having_Sub_Domain_0             11055 non-null  uint8\n",
            " 16  having_Sub_Domain_1             11055 non-null  uint8\n",
            " 17  SSLfinal_State_-1               11055 non-null  uint8\n",
            " 18  SSLfinal_State_0                11055 non-null  uint8\n",
            " 19  SSLfinal_State_1                11055 non-null  uint8\n",
            " 20  Domain_registeration_length_-1  11055 non-null  uint8\n",
            " 21  Domain_registeration_length_1   11055 non-null  uint8\n",
            " 22  Favicon_-1                      11055 non-null  uint8\n",
            " 23  Favicon_1                       11055 non-null  uint8\n",
            " 24  port_-1                         11055 non-null  uint8\n",
            " 25  port_1                          11055 non-null  uint8\n",
            " 26  HTTPS_token_-1                  11055 non-null  uint8\n",
            " 27  HTTPS_token_1                   11055 non-null  uint8\n",
            " 28  Request_URL_-1                  11055 non-null  uint8\n",
            " 29  Request_URL_1                   11055 non-null  uint8\n",
            " 30  URL_of_Anchor_-1                11055 non-null  uint8\n",
            " 31  URL_of_Anchor_0                 11055 non-null  uint8\n",
            " 32  URL_of_Anchor_1                 11055 non-null  uint8\n",
            " 33  Links_in_tags_-1                11055 non-null  uint8\n",
            " 34  Links_in_tags_0                 11055 non-null  uint8\n",
            " 35  Links_in_tags_1                 11055 non-null  uint8\n",
            " 36  SFH_-1                          11055 non-null  uint8\n",
            " 37  SFH_0                           11055 non-null  uint8\n",
            " 38  SFH_1                           11055 non-null  uint8\n",
            " 39  Submitting_to_email_-1          11055 non-null  uint8\n",
            " 40  Submitting_to_email_1           11055 non-null  uint8\n",
            " 41  Abnormal_URL_-1                 11055 non-null  uint8\n",
            " 42  Abnormal_URL_1                  11055 non-null  uint8\n",
            " 43  Redirect_0                      11055 non-null  uint8\n",
            " 44  Redirect_1                      11055 non-null  uint8\n",
            " 45  on_mouseover_-1                 11055 non-null  uint8\n",
            " 46  on_mouseover_1                  11055 non-null  uint8\n",
            " 47  RightClick_-1                   11055 non-null  uint8\n",
            " 48  RightClick_1                    11055 non-null  uint8\n",
            " 49  popUpWidnow_-1                  11055 non-null  uint8\n",
            " 50  popUpWidnow_1                   11055 non-null  uint8\n",
            " 51  Iframe_-1                       11055 non-null  uint8\n",
            " 52  Iframe_1                        11055 non-null  uint8\n",
            " 53  age_of_domain_-1                11055 non-null  uint8\n",
            " 54  age_of_domain_1                 11055 non-null  uint8\n",
            " 55  DNSRecord_-1                    11055 non-null  uint8\n",
            " 56  DNSRecord_1                     11055 non-null  uint8\n",
            " 57  web_traffic_-1                  11055 non-null  uint8\n",
            " 58  web_traffic_0                   11055 non-null  uint8\n",
            " 59  web_traffic_1                   11055 non-null  uint8\n",
            " 60  Page_Rank_-1                    11055 non-null  uint8\n",
            " 61  Page_Rank_1                     11055 non-null  uint8\n",
            " 62  Google_Index_-1                 11055 non-null  uint8\n",
            " 63  Google_Index_1                  11055 non-null  uint8\n",
            " 64  Links_pointing_to_page_-1       11055 non-null  uint8\n",
            " 65  Links_pointing_to_page_0        11055 non-null  uint8\n",
            " 66  Links_pointing_to_page_1        11055 non-null  uint8\n",
            " 67  Statistical_report_-1           11055 non-null  uint8\n",
            " 68  Statistical_report_1            11055 non-null  uint8\n",
            "dtypes: int64(1), uint8(68)\n",
            "memory usage: 906.9 KB\n"
          ]
        }
      ]
    },
    {
      "cell_type": "code",
      "source": [
        "train_encoded = encoded_combined_data[:8955]\n",
        "test_encoded = encoded_combined_data[8955:]"
      ],
      "metadata": {
        "id": "s8ZzQA8MxR7I"
      },
      "execution_count": 4,
      "outputs": []
    },
    {
      "cell_type": "code",
      "source": [
        "if (train_encoded[\"key\"] == train[\"key\"]).all():\n",
        "  print(\"train ok\")\n",
        "else:\n",
        "  print(\"train not ok\")\n",
        "\n",
        "if (test_encoded[\"key\"] == test[\"key\"]).all():\n",
        "  print(\"test ok\")\n",
        "else:\n",
        "  print(\"test not ok\")\n"
      ],
      "metadata": {
        "colab": {
          "base_uri": "https://localhost:8080/"
        },
        "id": "xq_1DBRzxqeY",
        "outputId": "db8644fd-f576-4854-9dbf-07fde4d133a2"
      },
      "execution_count": null,
      "outputs": [
        {
          "output_type": "stream",
          "name": "stdout",
          "text": [
            "train ok\n",
            "test ok\n"
          ]
        }
      ]
    },
    {
      "cell_type": "code",
      "source": [
        "train_encoded[\"Result\"] = train[\"Result\"]"
      ],
      "metadata": {
        "colab": {
          "base_uri": "https://localhost:8080/"
        },
        "id": "nNCHiUPgxs5Q",
        "outputId": "d419f538-499b-4c50-8003-e7205d1f6ebd"
      },
      "execution_count": 5,
      "outputs": [
        {
          "output_type": "stream",
          "name": "stderr",
          "text": [
            "/usr/local/lib/python3.7/dist-packages/ipykernel_launcher.py:1: SettingWithCopyWarning: \n",
            "A value is trying to be set on a copy of a slice from a DataFrame.\n",
            "Try using .loc[row_indexer,col_indexer] = value instead\n",
            "\n",
            "See the caveats in the documentation: https://pandas.pydata.org/pandas-docs/stable/user_guide/indexing.html#returning-a-view-versus-a-copy\n",
            "  \"\"\"Entry point for launching an IPython kernel.\n"
          ]
        }
      ]
    },
    {
      "cell_type": "code",
      "source": [
        "train_encoded.info()"
      ],
      "metadata": {
        "id": "LG4Sb58Ryn24",
        "colab": {
          "base_uri": "https://localhost:8080/"
        },
        "outputId": "876716d0-c806-4a25-d565-b7e713bcb48e"
      },
      "execution_count": null,
      "outputs": [
        {
          "output_type": "stream",
          "name": "stdout",
          "text": [
            "<class 'pandas.core.frame.DataFrame'>\n",
            "Int64Index: 8955 entries, 0 to 8954\n",
            "Data columns (total 70 columns):\n",
            " #   Column                          Non-Null Count  Dtype\n",
            "---  ------                          --------------  -----\n",
            " 0   key                             8955 non-null   int64\n",
            " 1   having_IP_-1                    8955 non-null   uint8\n",
            " 2   having_IP_1                     8955 non-null   uint8\n",
            " 3   URL_Length_-1                   8955 non-null   uint8\n",
            " 4   URL_Length_0                    8955 non-null   uint8\n",
            " 5   URL_Length_1                    8955 non-null   uint8\n",
            " 6   Shortining_Service_-1           8955 non-null   uint8\n",
            " 7   Shortining_Service_1            8955 non-null   uint8\n",
            " 8   having_At_Symbol_-1             8955 non-null   uint8\n",
            " 9   having_At_Symbol_1              8955 non-null   uint8\n",
            " 10  double_slash_redirecting_-1     8955 non-null   uint8\n",
            " 11  double_slash_redirecting_1      8955 non-null   uint8\n",
            " 12  Prefix_Suffix_-1                8955 non-null   uint8\n",
            " 13  Prefix_Suffix_1                 8955 non-null   uint8\n",
            " 14  having_Sub_Domain_-1            8955 non-null   uint8\n",
            " 15  having_Sub_Domain_0             8955 non-null   uint8\n",
            " 16  having_Sub_Domain_1             8955 non-null   uint8\n",
            " 17  SSLfinal_State_-1               8955 non-null   uint8\n",
            " 18  SSLfinal_State_0                8955 non-null   uint8\n",
            " 19  SSLfinal_State_1                8955 non-null   uint8\n",
            " 20  Domain_registeration_length_-1  8955 non-null   uint8\n",
            " 21  Domain_registeration_length_1   8955 non-null   uint8\n",
            " 22  Favicon_-1                      8955 non-null   uint8\n",
            " 23  Favicon_1                       8955 non-null   uint8\n",
            " 24  port_-1                         8955 non-null   uint8\n",
            " 25  port_1                          8955 non-null   uint8\n",
            " 26  HTTPS_token_-1                  8955 non-null   uint8\n",
            " 27  HTTPS_token_1                   8955 non-null   uint8\n",
            " 28  Request_URL_-1                  8955 non-null   uint8\n",
            " 29  Request_URL_1                   8955 non-null   uint8\n",
            " 30  URL_of_Anchor_-1                8955 non-null   uint8\n",
            " 31  URL_of_Anchor_0                 8955 non-null   uint8\n",
            " 32  URL_of_Anchor_1                 8955 non-null   uint8\n",
            " 33  Links_in_tags_-1                8955 non-null   uint8\n",
            " 34  Links_in_tags_0                 8955 non-null   uint8\n",
            " 35  Links_in_tags_1                 8955 non-null   uint8\n",
            " 36  SFH_-1                          8955 non-null   uint8\n",
            " 37  SFH_0                           8955 non-null   uint8\n",
            " 38  SFH_1                           8955 non-null   uint8\n",
            " 39  Submitting_to_email_-1          8955 non-null   uint8\n",
            " 40  Submitting_to_email_1           8955 non-null   uint8\n",
            " 41  Abnormal_URL_-1                 8955 non-null   uint8\n",
            " 42  Abnormal_URL_1                  8955 non-null   uint8\n",
            " 43  Redirect_0                      8955 non-null   uint8\n",
            " 44  Redirect_1                      8955 non-null   uint8\n",
            " 45  on_mouseover_-1                 8955 non-null   uint8\n",
            " 46  on_mouseover_1                  8955 non-null   uint8\n",
            " 47  RightClick_-1                   8955 non-null   uint8\n",
            " 48  RightClick_1                    8955 non-null   uint8\n",
            " 49  popUpWidnow_-1                  8955 non-null   uint8\n",
            " 50  popUpWidnow_1                   8955 non-null   uint8\n",
            " 51  Iframe_-1                       8955 non-null   uint8\n",
            " 52  Iframe_1                        8955 non-null   uint8\n",
            " 53  age_of_domain_-1                8955 non-null   uint8\n",
            " 54  age_of_domain_1                 8955 non-null   uint8\n",
            " 55  DNSRecord_-1                    8955 non-null   uint8\n",
            " 56  DNSRecord_1                     8955 non-null   uint8\n",
            " 57  web_traffic_-1                  8955 non-null   uint8\n",
            " 58  web_traffic_0                   8955 non-null   uint8\n",
            " 59  web_traffic_1                   8955 non-null   uint8\n",
            " 60  Page_Rank_-1                    8955 non-null   uint8\n",
            " 61  Page_Rank_1                     8955 non-null   uint8\n",
            " 62  Google_Index_-1                 8955 non-null   uint8\n",
            " 63  Google_Index_1                  8955 non-null   uint8\n",
            " 64  Links_pointing_to_page_-1       8955 non-null   uint8\n",
            " 65  Links_pointing_to_page_0        8955 non-null   uint8\n",
            " 66  Links_pointing_to_page_1        8955 non-null   uint8\n",
            " 67  Statistical_report_-1           8955 non-null   uint8\n",
            " 68  Statistical_report_1            8955 non-null   uint8\n",
            " 69  Result                          8955 non-null   int64\n",
            "dtypes: int64(2), uint8(68)\n",
            "memory usage: 804.6 KB\n"
          ]
        }
      ]
    },
    {
      "cell_type": "code",
      "source": [
        "X_train = train_encoded.drop([\"key\", \"Result\"], axis=1).values\n",
        "\n",
        "Y_train = train_encoded[\"Result\"].values \n",
        "\n",
        "print(X_train.shape)\n",
        "print(Y_train.shape)"
      ],
      "metadata": {
        "id": "C5QH2hf2y34g",
        "colab": {
          "base_uri": "https://localhost:8080/"
        },
        "outputId": "e962604c-b3b6-49c7-c9d8-3706b4116d71"
      },
      "execution_count": 30,
      "outputs": [
        {
          "output_type": "stream",
          "name": "stdout",
          "text": [
            "(8955, 68)\n",
            "(8955,)\n"
          ]
        }
      ]
    },
    {
      "cell_type": "code",
      "source": [
        ""
      ],
      "metadata": {
        "id": "4r73Wis3b76E"
      },
      "execution_count": null,
      "outputs": []
    },
    {
      "cell_type": "code",
      "source": [
        "from sklearn.ensemble import RandomForestClassifier\n",
        "from sklearn.model_selection import GridSearchCV\n",
        "\n",
        "\n",
        "params = {\n",
        "    'max_depth': [2,3,5,10,20],\n",
        "    'min_samples_leaf': [5,10,20,50,100,200],\n",
        "    'n_estimators': [10,25,30,50,100,200]\n",
        "}\n",
        "\n",
        "\n",
        "\n",
        "classifier_rf = RandomForestClassifier(random_state=42, n_jobs=-1, max_depth=5,\n",
        "                                       n_estimators=100, oob_score=True)\n",
        "\n",
        "grid_search = GridSearchCV(estimator=classifier_rf,\n",
        "                           param_grid=params,\n",
        "                           cv = 4,\n",
        "                           n_jobs=-1, verbose=1, scoring=\"accuracy\")\n",
        "grid_search.fit(X_train, Y_train)"
      ],
      "metadata": {
        "colab": {
          "base_uri": "https://localhost:8080/"
        },
        "id": "Jcfpir_sgvHt",
        "outputId": "c629a6da-ac8f-4021-e5e2-a84e0ba50025"
      },
      "execution_count": 31,
      "outputs": [
        {
          "output_type": "stream",
          "name": "stdout",
          "text": [
            "Fitting 4 folds for each of 180 candidates, totalling 720 fits\n"
          ]
        },
        {
          "output_type": "execute_result",
          "data": {
            "text/plain": [
              "GridSearchCV(cv=4,\n",
              "             estimator=RandomForestClassifier(max_depth=5, n_jobs=-1,\n",
              "                                              oob_score=True, random_state=42),\n",
              "             n_jobs=-1,\n",
              "             param_grid={'max_depth': [2, 3, 5, 10, 20],\n",
              "                         'min_samples_leaf': [5, 10, 20, 50, 100, 200],\n",
              "                         'n_estimators': [10, 25, 30, 50, 100, 200]},\n",
              "             scoring='accuracy', verbose=1)"
            ]
          },
          "metadata": {},
          "execution_count": 31
        }
      ]
    },
    {
      "cell_type": "code",
      "source": [
        "grid_search.best_score_\n"
      ],
      "metadata": {
        "colab": {
          "base_uri": "https://localhost:8080/"
        },
        "id": "5I8UQgaMhIXt",
        "outputId": "e33cb219-e3f3-4b91-cfcd-177723758f40"
      },
      "execution_count": 32,
      "outputs": [
        {
          "output_type": "execute_result",
          "data": {
            "text/plain": [
              "0.943492532851502"
            ]
          },
          "metadata": {},
          "execution_count": 32
        }
      ]
    },
    {
      "cell_type": "code",
      "source": [
        "rf_best = grid_search.best_estimator_\n",
        "rf_best"
      ],
      "metadata": {
        "colab": {
          "base_uri": "https://localhost:8080/"
        },
        "id": "H7oqJcSUlNuH",
        "outputId": "301ad717-e9c2-41a9-bcf4-bd073d0df320"
      },
      "execution_count": 33,
      "outputs": [
        {
          "output_type": "execute_result",
          "data": {
            "text/plain": [
              "RandomForestClassifier(max_depth=20, min_samples_leaf=5, n_estimators=200,\n",
              "                       n_jobs=-1, oob_score=True, random_state=42)"
            ]
          },
          "metadata": {},
          "execution_count": 33
        }
      ]
    },
    {
      "cell_type": "code",
      "source": [
        "best_random_forest_classifier = RandomForestClassifier(max_depth=20, min_samples_leaf=5, n_estimators=200,\n",
        "                       n_jobs=-1, oob_score=True, random_state=42)\n",
        "\n",
        "best_random_forest_classifier.fit(X_train, Y_train)"
      ],
      "metadata": {
        "colab": {
          "base_uri": "https://localhost:8080/"
        },
        "id": "I5SU0AOalQyd",
        "outputId": "55467f3c-38b4-4a4e-82b8-90776fbb91c1"
      },
      "execution_count": 35,
      "outputs": [
        {
          "output_type": "execute_result",
          "data": {
            "text/plain": [
              "RandomForestClassifier(max_depth=20, min_samples_leaf=5, n_estimators=200,\n",
              "                       n_jobs=-1, oob_score=True, random_state=42)"
            ]
          },
          "metadata": {},
          "execution_count": 35
        }
      ]
    },
    {
      "cell_type": "code",
      "source": [
        "# imp_df = pd.DataFrame({\n",
        "#     \"Varname\": train_encoded.columns,\n",
        "#     \"Imp\": rf_best.feature_importances_\n",
        "# })\n",
        "train_columns = list(train_encoded.columns)\n",
        "train_columns.remove(\"Result\")\n",
        "train_columns.remove(\"key\")\n",
        "\n",
        "\n",
        "imp_df = pd.DataFrame({\n",
        "    \"Varname\": train_columns,\n",
        "    \"Imp\": rf_best.feature_importances_\n",
        "})"
      ],
      "metadata": {
        "id": "aYyZnZIOYX1w"
      },
      "execution_count": 39,
      "outputs": []
    },
    {
      "cell_type": "code",
      "source": [
        "imp_df"
      ],
      "metadata": {
        "colab": {
          "base_uri": "https://localhost:8080/",
          "height": 656
        },
        "id": "caY_MkuOnuRN",
        "outputId": "04956894-daf7-4773-a14a-1c7a53172b7b"
      },
      "execution_count": 42,
      "outputs": [
        {
          "output_type": "execute_result",
          "data": {
            "text/plain": [
              "                      Varname       Imp\n",
              "0                having_IP_-1  0.003822\n",
              "1                 having_IP_1  0.003779\n",
              "2               URL_Length_-1  0.002000\n",
              "3                URL_Length_0  0.000111\n",
              "4                URL_Length_1  0.002394\n",
              "..                        ...       ...\n",
              "63  Links_pointing_to_page_-1  0.001332\n",
              "64   Links_pointing_to_page_0  0.004773\n",
              "65   Links_pointing_to_page_1  0.004361\n",
              "66      Statistical_report_-1  0.000688\n",
              "67       Statistical_report_1  0.000727\n",
              "\n",
              "[68 rows x 2 columns]"
            ],
            "text/html": [
              "\n",
              "  <div id=\"df-61707ffd-2ee3-4e2e-9271-5cfbbc54cb14\">\n",
              "    <div class=\"colab-df-container\">\n",
              "      <div>\n",
              "<style scoped>\n",
              "    .dataframe tbody tr th:only-of-type {\n",
              "        vertical-align: middle;\n",
              "    }\n",
              "\n",
              "    .dataframe tbody tr th {\n",
              "        vertical-align: top;\n",
              "    }\n",
              "\n",
              "    .dataframe thead th {\n",
              "        text-align: right;\n",
              "    }\n",
              "</style>\n",
              "<table border=\"1\" class=\"dataframe\">\n",
              "  <thead>\n",
              "    <tr style=\"text-align: right;\">\n",
              "      <th></th>\n",
              "      <th>Varname</th>\n",
              "      <th>Imp</th>\n",
              "    </tr>\n",
              "  </thead>\n",
              "  <tbody>\n",
              "    <tr>\n",
              "      <th>0</th>\n",
              "      <td>having_IP_-1</td>\n",
              "      <td>0.003822</td>\n",
              "    </tr>\n",
              "    <tr>\n",
              "      <th>1</th>\n",
              "      <td>having_IP_1</td>\n",
              "      <td>0.003779</td>\n",
              "    </tr>\n",
              "    <tr>\n",
              "      <th>2</th>\n",
              "      <td>URL_Length_-1</td>\n",
              "      <td>0.002000</td>\n",
              "    </tr>\n",
              "    <tr>\n",
              "      <th>3</th>\n",
              "      <td>URL_Length_0</td>\n",
              "      <td>0.000111</td>\n",
              "    </tr>\n",
              "    <tr>\n",
              "      <th>4</th>\n",
              "      <td>URL_Length_1</td>\n",
              "      <td>0.002394</td>\n",
              "    </tr>\n",
              "    <tr>\n",
              "      <th>...</th>\n",
              "      <td>...</td>\n",
              "      <td>...</td>\n",
              "    </tr>\n",
              "    <tr>\n",
              "      <th>63</th>\n",
              "      <td>Links_pointing_to_page_-1</td>\n",
              "      <td>0.001332</td>\n",
              "    </tr>\n",
              "    <tr>\n",
              "      <th>64</th>\n",
              "      <td>Links_pointing_to_page_0</td>\n",
              "      <td>0.004773</td>\n",
              "    </tr>\n",
              "    <tr>\n",
              "      <th>65</th>\n",
              "      <td>Links_pointing_to_page_1</td>\n",
              "      <td>0.004361</td>\n",
              "    </tr>\n",
              "    <tr>\n",
              "      <th>66</th>\n",
              "      <td>Statistical_report_-1</td>\n",
              "      <td>0.000688</td>\n",
              "    </tr>\n",
              "    <tr>\n",
              "      <th>67</th>\n",
              "      <td>Statistical_report_1</td>\n",
              "      <td>0.000727</td>\n",
              "    </tr>\n",
              "  </tbody>\n",
              "</table>\n",
              "<p>68 rows × 2 columns</p>\n",
              "</div>\n",
              "      <button class=\"colab-df-convert\" onclick=\"convertToInteractive('df-61707ffd-2ee3-4e2e-9271-5cfbbc54cb14')\"\n",
              "              title=\"Convert this dataframe to an interactive table.\"\n",
              "              style=\"display:none;\">\n",
              "        \n",
              "  <svg xmlns=\"http://www.w3.org/2000/svg\" height=\"24px\"viewBox=\"0 0 24 24\"\n",
              "       width=\"24px\">\n",
              "    <path d=\"M0 0h24v24H0V0z\" fill=\"none\"/>\n",
              "    <path d=\"M18.56 5.44l.94 2.06.94-2.06 2.06-.94-2.06-.94-.94-2.06-.94 2.06-2.06.94zm-11 1L8.5 8.5l.94-2.06 2.06-.94-2.06-.94L8.5 2.5l-.94 2.06-2.06.94zm10 10l.94 2.06.94-2.06 2.06-.94-2.06-.94-.94-2.06-.94 2.06-2.06.94z\"/><path d=\"M17.41 7.96l-1.37-1.37c-.4-.4-.92-.59-1.43-.59-.52 0-1.04.2-1.43.59L10.3 9.45l-7.72 7.72c-.78.78-.78 2.05 0 2.83L4 21.41c.39.39.9.59 1.41.59.51 0 1.02-.2 1.41-.59l7.78-7.78 2.81-2.81c.8-.78.8-2.07 0-2.86zM5.41 20L4 18.59l7.72-7.72 1.47 1.35L5.41 20z\"/>\n",
              "  </svg>\n",
              "      </button>\n",
              "      \n",
              "  <style>\n",
              "    .colab-df-container {\n",
              "      display:flex;\n",
              "      flex-wrap:wrap;\n",
              "      gap: 12px;\n",
              "    }\n",
              "\n",
              "    .colab-df-convert {\n",
              "      background-color: #E8F0FE;\n",
              "      border: none;\n",
              "      border-radius: 50%;\n",
              "      cursor: pointer;\n",
              "      display: none;\n",
              "      fill: #1967D2;\n",
              "      height: 32px;\n",
              "      padding: 0 0 0 0;\n",
              "      width: 32px;\n",
              "    }\n",
              "\n",
              "    .colab-df-convert:hover {\n",
              "      background-color: #E2EBFA;\n",
              "      box-shadow: 0px 1px 2px rgba(60, 64, 67, 0.3), 0px 1px 3px 1px rgba(60, 64, 67, 0.15);\n",
              "      fill: #174EA6;\n",
              "    }\n",
              "\n",
              "    [theme=dark] .colab-df-convert {\n",
              "      background-color: #3B4455;\n",
              "      fill: #D2E3FC;\n",
              "    }\n",
              "\n",
              "    [theme=dark] .colab-df-convert:hover {\n",
              "      background-color: #434B5C;\n",
              "      box-shadow: 0px 1px 3px 1px rgba(0, 0, 0, 0.15);\n",
              "      filter: drop-shadow(0px 1px 2px rgba(0, 0, 0, 0.3));\n",
              "      fill: #FFFFFF;\n",
              "    }\n",
              "  </style>\n",
              "\n",
              "      <script>\n",
              "        const buttonEl =\n",
              "          document.querySelector('#df-61707ffd-2ee3-4e2e-9271-5cfbbc54cb14 button.colab-df-convert');\n",
              "        buttonEl.style.display =\n",
              "          google.colab.kernel.accessAllowed ? 'block' : 'none';\n",
              "\n",
              "        async function convertToInteractive(key) {\n",
              "          const element = document.querySelector('#df-61707ffd-2ee3-4e2e-9271-5cfbbc54cb14');\n",
              "          const dataTable =\n",
              "            await google.colab.kernel.invokeFunction('convertToInteractive',\n",
              "                                                     [key], {});\n",
              "          if (!dataTable) return;\n",
              "\n",
              "          const docLinkHtml = 'Like what you see? Visit the ' +\n",
              "            '<a target=\"_blank\" href=https://colab.research.google.com/notebooks/data_table.ipynb>data table notebook</a>'\n",
              "            + ' to learn more about interactive tables.';\n",
              "          element.innerHTML = '';\n",
              "          dataTable['output_type'] = 'display_data';\n",
              "          await google.colab.output.renderOutput(dataTable, element);\n",
              "          const docLink = document.createElement('div');\n",
              "          docLink.innerHTML = docLinkHtml;\n",
              "          element.appendChild(docLink);\n",
              "        }\n",
              "      </script>\n",
              "    </div>\n",
              "  </div>\n",
              "  "
            ]
          },
          "metadata": {},
          "execution_count": 42
        }
      ]
    },
    {
      "cell_type": "code",
      "source": [
        "# from sklearn.tree import plot_tree\n",
        "# import matplotlib.pyplot as plt, seaborn as sns\n",
        "\n",
        "# plt.figure(figsize=(80,40))\n",
        "# plot_tree(rf_best.estimators_[7], feature_names = train_encoded.columns,class_names=['Disease', \"No Disease\"],filled=True);"
      ],
      "metadata": {
        "id": "vwjZz0rPldhF"
      },
      "execution_count": null,
      "outputs": []
    },
    {
      "cell_type": "code",
      "source": [
        "X_test = test_encoded.drop([\"key\"], axis= 1).values\n"
      ],
      "metadata": {
        "id": "U7urNVsPmAGV"
      },
      "execution_count": 45,
      "outputs": []
    },
    {
      "cell_type": "code",
      "source": [
        "Y_pred = best_random_forest_classifier.predict(X_test)"
      ],
      "metadata": {
        "id": "LcjnddDDn9Tq"
      },
      "execution_count": 46,
      "outputs": []
    },
    {
      "cell_type": "code",
      "source": [
        "Y_pred.shape"
      ],
      "metadata": {
        "colab": {
          "base_uri": "https://localhost:8080/"
        },
        "id": "4u6u7C2rpXMv",
        "outputId": "b773c9b9-837f-487b-881f-e03d96dbb9c1"
      },
      "execution_count": 47,
      "outputs": [
        {
          "output_type": "execute_result",
          "data": {
            "text/plain": [
              "(2100,)"
            ]
          },
          "metadata": {},
          "execution_count": 47
        }
      ]
    },
    {
      "cell_type": "code",
      "source": [
        "submission = pd.DataFrame({\"key\": test_encoded[\"key\"], \"Result\": Y_pred})"
      ],
      "metadata": {
        "id": "doFrkOvGpZcl"
      },
      "execution_count": 48,
      "outputs": []
    },
    {
      "cell_type": "code",
      "source": [
        "submission.to_csv(\"./submission.csv\", index=False)"
      ],
      "metadata": {
        "id": "degHl0Y6pztI"
      },
      "execution_count": 49,
      "outputs": []
    },
    {
      "cell_type": "code",
      "source": [
        ""
      ],
      "metadata": {
        "id": "Rsz2zSL6p8nn"
      },
      "execution_count": null,
      "outputs": []
    }
  ]
}